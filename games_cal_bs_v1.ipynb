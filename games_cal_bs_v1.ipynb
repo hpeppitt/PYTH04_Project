{
 "cells": [
  {
   "cell_type": "code",
   "execution_count": 38,
   "metadata": {},
   "outputs": [],
   "source": [
    "#######import libraries\n",
    "#\n",
    "## used to query a website\n",
    "import urllib.request\n",
    "## For scraping \n",
    "from bs4 import BeautifulSoup as bs\n",
    "## For data\n",
    "import pandas as pd"
   ]
  },
  {
   "cell_type": "code",
   "execution_count": 39,
   "metadata": {},
   "outputs": [],
   "source": [
    "#specify the urls to scrape\n",
    "switch1 = \"https://en.wikipedia.org/wiki/List_of_Nintendo_Switch_games\"\n",
    "switch2 = \"https://en.wikipedia.org/wiki/List_of_Nintendo_Switch_games_(M-Z)\"\n",
    "xbox1 = \"https://en.wikipedia.org/wiki/List_of_Xbox_One_games_(A-L)\"\n",
    "xbox2 = \"https://en.wikipedia.org/wiki/List_of_Xbox_One_games_(M-Z)\"\n",
    "ps41 = \"https://en.wikipedia.org/wiki/List_of_PlayStation_4_games\"\n",
    "ps42 = \"https://en.wikipedia.org/wiki/List_of_PlayStation_4_games_(M-Z)\"\n",
    "# PC A - \"https://en.wikipedia.org/wiki/List_of_PC_games_(A)\"\n",
    "# PC Z - \"https://en.wikipedia.org/wiki/List_of_PC_games_(Z)\"\n",
    "# PC 0-9 - \"https://en.wikipedia.org/wiki/List_of_PC_games_(Numerical)\""
   ]
  },
  {
   "cell_type": "code",
   "execution_count": 40,
   "metadata": {},
   "outputs": [],
   "source": [
    "#Query the website and return the html to the console variables\n",
    "switch1_page = urllib.request.urlopen(switch1)\n",
    "switch2_page = urllib.request.urlopen(switch2)\n",
    "xbox1_page = urllib.request.urlopen(xbox1)\n",
    "xbox2_page = urllib.request.urlopen(xbox2)\n",
    "ps41_page = urllib.request.urlopen(ps41)\n",
    "ps42_page = urllib.request.urlopen(ps42)"
   ]
  },
  {
   "cell_type": "code",
   "execution_count": 41,
   "metadata": {},
   "outputs": [],
   "source": [
    "#parse the data returned from the website\n",
    "switch1_soup = bs(switch1_page)\n",
    "switch2_soup = bs(switch2_page)\n",
    "xbox1_soup = bs(xbox1_page)\n",
    "xbox2_soup = bs(xbox2_page)\n",
    "ps41_soup = bs(ps41_page)\n",
    "ps42_soup = bs(ps42_page)"
   ]
  },
  {
   "cell_type": "code",
   "execution_count": 54,
   "metadata": {},
   "outputs": [],
   "source": [
    "#Find the data tables on the webpages\n",
    "switch1_table = switch1_soup.find_all('table')[0]\n",
    "switch2_table = switch2_soup.find_all('table')[0]\n",
    "xbox1_table = xbox1_soup.find_all('table')[4]\n",
    "xbox2_table = xbox2_soup.find_all('table')[4]\n",
    "ps41_table = ps41_soup.find_all('table')[1]\n",
    "ps42_table = ps42_soup.find_all('table')[0]\n",
    "#convert HTML data tables to pandas dataframes\n",
    "switch1_df = pd.read_html(str(switch1_table))\n",
    "switch2_df = pd.read_html(str(switch2_table))\n",
    "xbox1_df = pd.read_html(str(xbox1_table))\n",
    "xbox2_df = pd.read_html(str(xbox2_table))\n",
    "ps41_df = pd.read_html(str(ps41_table))\n",
    "ps42_df = pd.read_html(str(ps42_table))"
   ]
  },
  {
   "cell_type": "code",
   "execution_count": 55,
   "metadata": {},
   "outputs": [],
   "source": [
    "#show dataframe result\n",
    "#print(switch1_df)\n",
    "#print(switch2_df)\n",
    "#print(xbox1_df)\n",
    "#print(xbox2_df)\n",
    "#print(ps41_df)\n",
    "#print(ps42_df)"
   ]
  },
  {
   "cell_type": "code",
   "execution_count": 56,
   "metadata": {},
   "outputs": [],
   "source": [
    "#export dataframe result to CSV\n",
    "switch1_df[0].to_csv ('switch1.csv', index=False, header=True)\n",
    "switch2_df[0].to_csv ('switch2.csv', index=False, header=True)\n",
    "xbox1_df[0].to_csv ('xbox1.csv', index=False, header=True)\n",
    "xbox2_df[0].to_csv ('xbox2.csv', index=False, header=True)\n",
    "ps41_df[0].to_csv ('ps41.csv', index=False, header=True)\n",
    "ps42_df[0].to_csv ('ps42.csv', index=False, header=True)"
   ]
  },
  {
   "cell_type": "code",
   "execution_count": null,
   "metadata": {},
   "outputs": [],
   "source": []
  }
 ],
 "metadata": {
  "kernelspec": {
   "display_name": "Python 3",
   "language": "python",
   "name": "python3"
  },
  "language_info": {
   "codemirror_mode": {
    "name": "ipython",
    "version": 3
   },
   "file_extension": ".py",
   "mimetype": "text/x-python",
   "name": "python",
   "nbconvert_exporter": "python",
   "pygments_lexer": "ipython3",
   "version": "3.7.3"
  }
 },
 "nbformat": 4,
 "nbformat_minor": 2
}
